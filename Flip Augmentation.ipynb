{
 "cells": [
  {
   "cell_type": "code",
   "execution_count": 30,
   "metadata": {},
   "outputs": [],
   "source": [
    "import glob\n",
    "import cv2\n",
    "import os\n",
    "from datetime import datetime\n",
    "\n",
    "\n",
    "start_time = datetime.now()\n",
    "\n",
    "\n",
    "filepath = ('C:\\\\Users\\\\pc55\\\\Desktop\\\\All oil spill images\\\\*.*') # change this path\n",
    "save_filepath = 'C:\\\\Users\\\\pc55\\\\Desktop\\\\All oil spill images\\\\Augmented\\\\'# change this path\n",
    "\n",
    "\n",
    "for bb,f1 in enumerate (glob.glob(filepath)):\n",
    "    data = {'file': open(f1, 'rb')}\n",
    "    \n",
    "    img = cv2.imread(f1)\n",
    "    \n",
    "    flipVertical = cv2.flip(img, 0)\n",
    "    flipHorizontal = cv2.flip(img, 1)\n",
    "    flipBoth = cv2.flip(img, -1)\n",
    " \n",
    "    cv2.imwrite(save_filepath+str(os.path.basename(f1))+' flipV.jpg', flipVertical)\n",
    "    cv2.imwrite(save_filepath+str(os.path.basename(f1))+' flipH.jpg', flipHorizontal)\n",
    "    cv2.imwrite(save_filepath+str(os.path.basename(f1))+' flipBoth.jpg', flipBoth)\n",
    "\n",
    "    \n",
    "end_time = datetime.now()\n",
    "print('Duration: {}'.format(end_time - start_time))   "
   ]
  },
  {
   "cell_type": "code",
   "execution_count": null,
   "metadata": {},
   "outputs": [],
   "source": []
  }
 ],
 "metadata": {
  "kernelspec": {
   "display_name": "Python 3",
   "language": "python",
   "name": "python3"
  },
  "language_info": {
   "codemirror_mode": {
    "name": "ipython",
    "version": 3
   },
   "file_extension": ".py",
   "mimetype": "text/x-python",
   "name": "python",
   "nbconvert_exporter": "python",
   "pygments_lexer": "ipython3",
   "version": "3.7.4"
  }
 },
 "nbformat": 4,
 "nbformat_minor": 2
}
