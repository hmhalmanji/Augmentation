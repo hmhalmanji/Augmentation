{
 "cells": [
  {
   "cell_type": "code",
   "execution_count": 9,
   "metadata": {},
   "outputs": [
    {
     "name": "stdout",
     "output_type": "stream",
     "text": [
      "Duration: 0:08:20.391890\n"
     ]
    }
   ],
   "source": [
    "import glob\n",
    "import cv2\n",
    "import os\n",
    "import numpy as np\n",
    "from PIL import Image\n",
    "from datetime import datetime\n",
    "\n",
    "\n",
    "start_time = datetime.now()\n",
    "\n",
    "\n",
    "filepath = ('C:\\\\Users\\\\pc55\\\\Desktop\\\\All oil spill images\\\\*.*') # change this path\n",
    "save_filepath = 'C:\\\\Users\\\\pc55\\\\Desktop\\\\All oil spill images\\\\ColorAugmented\\\\'# change this path\n",
    "\n",
    "\n",
    "for bb,f1 in enumerate (glob.glob(filepath)):\n",
    "    data = {'file': open(f1, 'rb')}   \n",
    "    img = cv2.imread(f1)\n",
    "    \n",
    "    # We use cvtColor, to convert to grayscale\n",
    "    gray_image = cv2.cvtColor(img, cv2.COLOR_BGR2GRAY)\n",
    "    \n",
    "    B, G, R = cv2.split(img)\n",
    "    # Let's amplify the blue color\n",
    "    #mergedB = cv2.merge([B+200, G, R])\n",
    "    mergedR = cv2.merge([B, G, R-200])\n",
    "    \n",
    "    cv2.imwrite(save_filepath+str(os.path.basename(f1))+' gray.jpg', gray_image)\n",
    "    #cv2.imwrite(save_filepath+str(os.path.basename(f1))+' Blue.jpg', mergedB)\n",
    "    cv2.imwrite(save_filepath+str(os.path.basename(f1))+' Red.jpg', mergedR)\n",
    "\n",
    "    \n",
    "end_time = datetime.now()\n",
    "print('Duration: {}'.format(end_time - start_time))   "
   ]
  },
  {
   "cell_type": "code",
   "execution_count": null,
   "metadata": {},
   "outputs": [],
   "source": []
  }
 ],
 "metadata": {
  "kernelspec": {
   "display_name": "Python 3",
   "language": "python",
   "name": "python3"
  },
  "language_info": {
   "codemirror_mode": {
    "name": "ipython",
    "version": 3
   },
   "file_extension": ".py",
   "mimetype": "text/x-python",
   "name": "python",
   "nbconvert_exporter": "python",
   "pygments_lexer": "ipython3",
   "version": "3.7.4"
  }
 },
 "nbformat": 4,
 "nbformat_minor": 2
}
